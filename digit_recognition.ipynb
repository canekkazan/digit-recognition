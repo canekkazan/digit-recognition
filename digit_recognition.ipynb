{
  "cells": [
    {
      "cell_type": "code",
      "execution_count": 22,
      "id": "862d1692",
      "metadata": {
        "id": "862d1692"
      },
      "outputs": [],
      "source": [
        "import os\n",
        "import cv2\n",
        "import random\n",
        "import numpy as np\n",
        "import tensorflow as tf\n",
        "import matplotlib.pyplot as plt\n",
        "\n",
        "from sklearn.metrics import confusion_matrix\n",
        "\n",
        "from tensorflow import keras\n",
        "from tensorflow.keras.datasets import mnist\n",
        "from tensorflow.keras.models import Sequential\n",
        "from tensorflow.keras.layers import Dense, Dropout, Activation, Flatten, Conv2D, MaxPooling2D"
      ]
    },
    {
      "cell_type": "code",
      "execution_count": 23,
      "id": "1ce98d03",
      "metadata": {
        "id": "1ce98d03"
      },
      "outputs": [],
      "source": [
        "#  Load MNIST data \n",
        "(x_train, y_train), (x_test, y_test) = keras.datasets.mnist.load_data()"
      ]
    },
    {
      "cell_type": "code",
      "execution_count": 24,
      "id": "f25ed2ae",
      "metadata": {
        "id": "f25ed2ae"
      },
      "outputs": [],
      "source": [
        "# Declare model/data parameters\n",
        "input_shape = (28, 28, 1)\n",
        "batch_size = 64\n",
        "num_classes = 10\n",
        "epochs = 10"
      ]
    },
    {
      "cell_type": "code",
      "execution_count": 25,
      "id": "901YiBQRUVXy",
      "metadata": {
        "id": "901YiBQRUVXy"
      },
      "outputs": [],
      "source": [
        "# Preprocess the data\n",
        "# Normalize all image data\n",
        "x_train = x_train / 255.0\n",
        "x_test = x_test / 255.0\n",
        "\n",
        "# Reshape the data for the input shape (28,28,1)\n",
        "x_train = np.expand_dims(x_train, -1)\n",
        "x_test = np.expand_dims(x_test, -1)\n",
        "\n",
        "# One-hot encoding for the labels\n",
        "y_train = tf.one_hot(y_train.astype(np.int32), depth=10)\n",
        "y_test = tf.one_hot(y_test.astype(np.int32), depth=10)"
      ]
    },
    {
      "cell_type": "code",
      "execution_count": 26,
      "id": "c4cd160d",
      "metadata": {
        "colab": {
          "base_uri": "https://localhost:8080/"
        },
        "id": "c4cd160d",
        "outputId": "dbf15dcb-b99a-4f27-d147-98b04f0d4c24"
      },
      "outputs": [
        {
          "output_type": "stream",
          "name": "stdout",
          "text": [
            "Model: \"sequential_2\"\n",
            "_________________________________________________________________\n",
            " Layer (type)                Output Shape              Param #   \n",
            "=================================================================\n",
            " conv2d_4 (Conv2D)           (None, 28, 28, 32)        832       \n",
            "                                                                 \n",
            " max_pooling2d_4 (MaxPooling  (None, 14, 14, 32)       0         \n",
            " 2D)                                                             \n",
            "                                                                 \n",
            " dropout_6 (Dropout)         (None, 14, 14, 32)        0         \n",
            "                                                                 \n",
            " conv2d_5 (Conv2D)           (None, 14, 14, 32)        9248      \n",
            "                                                                 \n",
            " max_pooling2d_5 (MaxPooling  (None, 7, 7, 32)         0         \n",
            " 2D)                                                             \n",
            "                                                                 \n",
            " dropout_7 (Dropout)         (None, 7, 7, 32)          0         \n",
            "                                                                 \n",
            " flatten_2 (Flatten)         (None, 1568)              0         \n",
            "                                                                 \n",
            " dense_4 (Dense)             (None, 128)               200832    \n",
            "                                                                 \n",
            " dropout_8 (Dropout)         (None, 128)               0         \n",
            "                                                                 \n",
            " dense_5 (Dense)             (None, 10)                1290      \n",
            "                                                                 \n",
            "=================================================================\n",
            "Total params: 212,202\n",
            "Trainable params: 212,202\n",
            "Non-trainable params: 0\n",
            "_________________________________________________________________\n"
          ]
        }
      ],
      "source": [
        "# Build the model\n",
        "model = tf.keras.Sequential(\n",
        "    [\n",
        "        keras.Input(shape=input_shape),\n",
        "        tf.keras.layers.Conv2D(32, (5,5), padding='same', activation='relu'),\n",
        "        tf.keras.layers.MaxPool2D(),\n",
        "        tf.keras.layers.Dropout(0.25),\n",
        "        tf.keras.layers.Conv2D(32, (3,3), padding='same', activation='relu'),\n",
        "        tf.keras.layers.MaxPool2D(),\n",
        "        tf.keras.layers.Dropout(0.25),\n",
        "        tf.keras.layers.Flatten(),\n",
        "        tf.keras.layers.Dense(128, activation='relu'),\n",
        "        tf.keras.layers.Dropout(0.5),\n",
        "        tf.keras.layers.Dense(num_classes, activation='softmax')\n",
        "    ]\n",
        ")\n",
        "\n",
        "model.summary()"
      ]
    },
    {
      "cell_type": "code",
      "execution_count": 27,
      "id": "b6d157e0",
      "metadata": {
        "colab": {
          "base_uri": "https://localhost:8080/"
        },
        "id": "b6d157e0",
        "outputId": "d4dac79b-424a-42e2-9ca2-f8ea13863c1b"
      },
      "outputs": [
        {
          "output_type": "stream",
          "name": "stdout",
          "text": [
            "Epoch 1/10\n",
            "844/844 [==============================] - 5s 6ms/step - loss: 0.3113 - accuracy: 0.9016 - val_loss: 0.0644 - val_accuracy: 0.9817\n",
            "Epoch 2/10\n",
            "844/844 [==============================] - 4s 4ms/step - loss: 0.1158 - accuracy: 0.9648 - val_loss: 0.0445 - val_accuracy: 0.9885\n",
            "Epoch 3/10\n",
            "844/844 [==============================] - 4s 4ms/step - loss: 0.0880 - accuracy: 0.9732 - val_loss: 0.0390 - val_accuracy: 0.9882\n",
            "Epoch 4/10\n",
            "844/844 [==============================] - 4s 5ms/step - loss: 0.0772 - accuracy: 0.9764 - val_loss: 0.0335 - val_accuracy: 0.9912\n",
            "Epoch 5/10\n",
            "844/844 [==============================] - 4s 4ms/step - loss: 0.0665 - accuracy: 0.9799 - val_loss: 0.0316 - val_accuracy: 0.9913\n",
            "Epoch 6/10\n",
            "844/844 [==============================] - 4s 4ms/step - loss: 0.0605 - accuracy: 0.9817 - val_loss: 0.0327 - val_accuracy: 0.9902\n",
            "Epoch 7/10\n",
            "844/844 [==============================] - 4s 4ms/step - loss: 0.0530 - accuracy: 0.9832 - val_loss: 0.0333 - val_accuracy: 0.9905\n",
            "Epoch 8/10\n",
            "844/844 [==============================] - 4s 5ms/step - loss: 0.0520 - accuracy: 0.9847 - val_loss: 0.0300 - val_accuracy: 0.9922\n",
            "Epoch 9/10\n",
            "844/844 [==============================] - 4s 5ms/step - loss: 0.0472 - accuracy: 0.9853 - val_loss: 0.0290 - val_accuracy: 0.9930\n",
            "Epoch 10/10\n",
            "844/844 [==============================] - 4s 4ms/step - loss: 0.0446 - accuracy: 0.9858 - val_loss: 0.0299 - val_accuracy: 0.9928\n"
          ]
        }
      ],
      "source": [
        "# Compile and train the model\n",
        "model.compile(loss='categorical_crossentropy',\n",
        "                optimizer='adam',\n",
        "                metrics=[\"accuracy\"])\n",
        "\n",
        "history = model.fit(x_train, y_train,\n",
        "                    batch_size=batch_size,\n",
        "                    epochs=epochs,\n",
        "                    validation_split=0.1)"
      ]
    },
    {
      "cell_type": "code",
      "execution_count": 28,
      "id": "4fd29bd5",
      "metadata": {
        "colab": {
          "base_uri": "https://localhost:8080/"
        },
        "id": "4fd29bd5",
        "outputId": "06c74239-373b-49f2-dea1-4b506b142e2e"
      },
      "outputs": [
        {
          "output_type": "stream",
          "name": "stdout",
          "text": [
            "313/313 [==============================] - 1s 3ms/step - loss: 0.0215 - accuracy: 0.9922\n"
          ]
        }
      ],
      "source": [
        "# Evaluate the trained model on MNIST test data\n",
        "test_loss, test_acc = model.evaluate(x_test, y_test)"
      ]
    },
    {
      "cell_type": "code",
      "execution_count": 29,
      "id": "4BUPvk9bYueg",
      "metadata": {
        "id": "4BUPvk9bYueg"
      },
      "outputs": [],
      "source": [
        "# Prepare the custom dataset made by me\n",
        "drc = r\"/content/drive/MyDrive/datasets/numbers_digital_labeled_28px\"\n",
        "CATEGORIES = [\"0\", \"1\",\"2\", \"3\",\"4\", \"5\",\"6\", \"7\",\"8\", \"9\"]\n",
        "\n",
        "numbers = []\n",
        "for category in CATEGORIES:  \n",
        "    path = os.path.join(drc,category) \n",
        "    class_num = CATEGORIES.index(category)\n",
        "    for img in os.listdir(path):  \n",
        "        img_array = cv2.imread(os.path.join(path,img), cv2.IMREAD_GRAYSCALE)\n",
        "        numbers.append([img_array, class_num])"
      ]
    },
    {
      "cell_type": "code",
      "execution_count": 30,
      "id": "c3d67b51",
      "metadata": {
        "id": "c3d67b51"
      },
      "outputs": [],
      "source": [
        "# Process the custom dataset, first shuffle and then split to images and labes array. \n",
        "# Reshape and normalize images, and one-hot encode the labels\n",
        "random.shuffle(numbers)\n",
        "\n",
        "x_numbers = []\n",
        "y_numbers = []\n",
        "\n",
        "for features, label in numbers:\n",
        "    x_numbers.append(features)\n",
        "    y_numbers.append(label)\n",
        "\n",
        "y_numbers = np.asarray(y_numbers)\n",
        "    \n",
        "x_numbers = np.array(x_numbers).reshape(-1, 28, 28, 1)\n",
        "x_numbers = x_numbers/255\n",
        "\n",
        "y_numbers = tf.one_hot(y_numbers.astype(np.int32), depth=10)"
      ]
    },
    {
      "cell_type": "code",
      "execution_count": 31,
      "id": "ixjexNclsXO4",
      "metadata": {
        "colab": {
          "base_uri": "https://localhost:8080/"
        },
        "id": "ixjexNclsXO4",
        "outputId": "6e2ea4b9-fd28-4cd5-e746-552c18cdc43b"
      },
      "outputs": [
        {
          "output_type": "stream",
          "name": "stdout",
          "text": [
            "2/2 [==============================] - 0s 40ms/step - loss: 1.9489 - accuracy: 0.5893\n"
          ]
        }
      ],
      "source": [
        "# Evaluate the trained model on custom data\n",
        "numbers_loss, numbers_acc = model.evaluate(x_numbers, y_numbers)"
      ]
    },
    {
      "cell_type": "code",
      "source": [
        "# Get predictions for test data and custom data.\n",
        "# Decode one-hot groundtruth labels and predicted labels for test data and custom data.\n",
        "test_predictions = model.predict(x_test)\n",
        "number_predictions = model.predict(x_numbers)\n",
        "\n",
        "groundtruth_test_labels = tf.argmax(y_test, axis=1)\n",
        "groundtruth_number_labels = tf.argmax(y_numbers, axis=1)\n",
        "\n",
        "predicted_test_labels = tf.argmax(test_predictions, axis=1)\n",
        "predicted_number_labels = tf.argmax(number_predictions, axis=1)"
      ],
      "metadata": {
        "id": "-TxrkzV6sqp1"
      },
      "id": "-TxrkzV6sqp1",
      "execution_count": 32,
      "outputs": []
    },
    {
      "cell_type": "code",
      "source": [
        " # Print confusion matrices.\n",
        "confusion_matrix_test = confusion_matrix(groundtruth_test_labels,predicted_test_labels)\n",
        "print(\"confusion_matrix_test\")\n",
        "print(confusion_matrix_test)\n",
        "\n",
        "confusion_matrix_numbers = confusion_matrix(groundtruth_number_labels,predicted_number_labels)\n",
        "print(\"confusion_matrix_numbers\")\n",
        "print(confusion_matrix_numbers)"
      ],
      "metadata": {
        "colab": {
          "base_uri": "https://localhost:8080/"
        },
        "id": "G-uTc3hQs62u",
        "outputId": "c406fa4d-2094-4c46-c705-4b947af05317"
      },
      "id": "G-uTc3hQs62u",
      "execution_count": 33,
      "outputs": [
        {
          "output_type": "stream",
          "name": "stdout",
          "text": [
            "confusion_matrix_test\n",
            "[[ 978    0    0    0    0    0    0    1    1    0]\n",
            " [   0 1128    1    0    0    1    2    1    2    0]\n",
            " [   1    0 1028    0    0    0    0    3    0    0]\n",
            " [   0    0    1 1001    0    6    0    1    1    0]\n",
            " [   0    0    0    0  979    0    0    0    2    1]\n",
            " [   1    0    0    2    0  886    1    0    0    2]\n",
            " [   7    2    1    0    2    6  940    0    0    0]\n",
            " [   0    2    4    1    0    0    0 1018    1    2]\n",
            " [   1    0    1    1    0    1    0    1  968    1]\n",
            " [   1    0    0    0    3    3    0    3    3  996]]\n",
            "confusion_matrix_numbers\n",
            "[[1 0 0 0 0 0 0 0 0 4]\n",
            " [0 5 0 0 0 0 0 0 0 0]\n",
            " [0 0 5 0 0 0 0 0 0 0]\n",
            " [0 0 0 4 0 0 0 1 0 1]\n",
            " [0 1 0 0 6 0 0 0 0 0]\n",
            " [0 0 0 0 1 3 0 0 0 1]\n",
            " [1 0 0 0 2 0 0 0 0 3]\n",
            " [0 0 0 1 0 1 0 4 0 0]\n",
            " [0 0 1 0 1 0 1 0 2 0]\n",
            " [0 0 0 0 0 0 0 1 2 3]]\n"
          ]
        }
      ]
    },
    {
      "cell_type": "code",
      "source": [
        ""
      ],
      "metadata": {
        "id": "4btZq6i7VdGs"
      },
      "id": "4btZq6i7VdGs",
      "execution_count": null,
      "outputs": []
    }
  ],
  "metadata": {
    "accelerator": "GPU",
    "colab": {
      "collapsed_sections": [],
      "name": "digit_recognition.ipynb",
      "provenance": []
    },
    "gpuClass": "standard",
    "kernelspec": {
      "display_name": "Python 3 (ipykernel)",
      "language": "python",
      "name": "python3"
    },
    "language_info": {
      "codemirror_mode": {
        "name": "ipython",
        "version": 3
      },
      "file_extension": ".py",
      "mimetype": "text/x-python",
      "name": "python",
      "nbconvert_exporter": "python",
      "pygments_lexer": "ipython3",
      "version": "3.9.7"
    }
  },
  "nbformat": 4,
  "nbformat_minor": 5
}